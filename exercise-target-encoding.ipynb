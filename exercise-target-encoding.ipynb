{
 "cells": [
  {
   "cell_type": "markdown",
   "id": "26e4075a",
   "metadata": {
    "papermill": {
     "duration": 0.008922,
     "end_time": "2022-07-05T11:19:29.213507",
     "exception": false,
     "start_time": "2022-07-05T11:19:29.204585",
     "status": "completed"
    },
    "tags": []
   },
   "source": [
    "**This notebook is an exercise in the [Feature Engineering](https://www.kaggle.com/learn/feature-engineering) course.  You can reference the tutorial at [this link](https://www.kaggle.com/ryanholbrook/target-encoding).**\n",
    "\n",
    "---\n"
   ]
  },
  {
   "cell_type": "markdown",
   "id": "7db7cca8",
   "metadata": {
    "papermill": {
     "duration": 0.007353,
     "end_time": "2022-07-05T11:19:29.228911",
     "exception": false,
     "start_time": "2022-07-05T11:19:29.221558",
     "status": "completed"
    },
    "tags": []
   },
   "source": [
    "# Introduction #\n",
    "\n",
    "In this exercise, you'll apply target encoding to features in the [*Ames*](https://www.kaggle.com/c/house-prices-advanced-regression-techniques/data) dataset.\n",
    "\n",
    "Run this cell to set everything up!"
   ]
  },
  {
   "cell_type": "code",
   "execution_count": 1,
   "id": "0851b44e",
   "metadata": {
    "execution": {
     "iopub.execute_input": "2022-07-05T11:19:29.247517Z",
     "iopub.status.busy": "2022-07-05T11:19:29.246349Z",
     "iopub.status.idle": "2022-07-05T11:19:31.539303Z",
     "shell.execute_reply": "2022-07-05T11:19:31.537522Z"
    },
    "papermill": {
     "duration": 2.305945,
     "end_time": "2022-07-05T11:19:31.542887",
     "exception": false,
     "start_time": "2022-07-05T11:19:29.236942",
     "status": "completed"
    },
    "tags": []
   },
   "outputs": [],
   "source": [
    "# Setup feedback system\n",
    "from learntools.core import binder\n",
    "binder.bind(globals())\n",
    "from learntools.feature_engineering_new.ex6 import *\n",
    "\n",
    "import matplotlib.pyplot as plt\n",
    "import numpy as np\n",
    "import pandas as pd\n",
    "import seaborn as sns\n",
    "import warnings\n",
    "from category_encoders import MEstimateEncoder\n",
    "from sklearn.model_selection import cross_val_score\n",
    "from xgboost import XGBRegressor\n",
    "\n",
    "# Set Matplotlib defaults\n",
    "plt.style.use(\"seaborn-whitegrid\")\n",
    "plt.rc(\"figure\", autolayout=True)\n",
    "plt.rc(\n",
    "    \"axes\",\n",
    "    labelweight=\"bold\",\n",
    "    labelsize=\"large\",\n",
    "    titleweight=\"bold\",\n",
    "    titlesize=14,\n",
    "    titlepad=10,\n",
    ")\n",
    "warnings.filterwarnings('ignore')\n",
    "\n",
    "\n",
    "def score_dataset(X, y, model=XGBRegressor()):\n",
    "    # Label encoding for categoricals\n",
    "    for colname in X.select_dtypes([\"category\", \"object\"]):\n",
    "        X[colname], _ = X[colname].factorize()\n",
    "    # Metric for Housing competition is RMSLE (Root Mean Squared Log Error)\n",
    "    score = cross_val_score(\n",
    "        model, X, y, cv=5, scoring=\"neg_mean_squared_log_error\",\n",
    "    )\n",
    "    score = -1 * score.mean()\n",
    "    score = np.sqrt(score)\n",
    "    return score\n",
    "\n",
    "\n",
    "df = pd.read_csv(\"../input/fe-course-data/ames.csv\")"
   ]
  },
  {
   "cell_type": "markdown",
   "id": "aca2c62d",
   "metadata": {
    "papermill": {
     "duration": 0.00685,
     "end_time": "2022-07-05T11:19:31.557065",
     "exception": false,
     "start_time": "2022-07-05T11:19:31.550215",
     "status": "completed"
    },
    "tags": []
   },
   "source": [
    "-------------------------------------------------------------------------------\n",
    "\n",
    "First you'll need to choose which features you want to apply a target encoding to. Categorical features with a large number of categories are often good candidates. Run this cell to see how many categories each categorical feature in the *Ames* dataset has."
   ]
  },
  {
   "cell_type": "code",
   "execution_count": 2,
   "id": "d0be1e52",
   "metadata": {
    "execution": {
     "iopub.execute_input": "2022-07-05T11:19:31.573632Z",
     "iopub.status.busy": "2022-07-05T11:19:31.573129Z",
     "iopub.status.idle": "2022-07-05T11:19:31.616011Z",
     "shell.execute_reply": "2022-07-05T11:19:31.614869Z"
    },
    "papermill": {
     "duration": 0.055169,
     "end_time": "2022-07-05T11:19:31.619200",
     "exception": false,
     "start_time": "2022-07-05T11:19:31.564031",
     "status": "completed"
    },
    "tags": []
   },
   "outputs": [
    {
     "data": {
      "text/plain": [
       "MSSubClass       16\n",
       "MSZoning          7\n",
       "Street            2\n",
       "Alley             3\n",
       "LotShape          4\n",
       "LandContour       4\n",
       "Utilities         3\n",
       "LotConfig         5\n",
       "LandSlope         3\n",
       "Neighborhood     28\n",
       "Condition1        9\n",
       "Condition2        8\n",
       "BldgType          5\n",
       "HouseStyle        8\n",
       "OverallQual      10\n",
       "OverallCond       9\n",
       "RoofStyle         6\n",
       "RoofMatl          8\n",
       "Exterior1st      16\n",
       "Exterior2nd      17\n",
       "MasVnrType        5\n",
       "ExterQual         4\n",
       "ExterCond         5\n",
       "Foundation        6\n",
       "BsmtQual          6\n",
       "BsmtCond          6\n",
       "BsmtExposure      5\n",
       "BsmtFinType1      7\n",
       "BsmtFinType2      7\n",
       "Heating           6\n",
       "HeatingQC         5\n",
       "CentralAir        2\n",
       "Electrical        6\n",
       "KitchenQual       5\n",
       "Functional        8\n",
       "FireplaceQu       6\n",
       "GarageType        7\n",
       "GarageFinish      4\n",
       "GarageQual        6\n",
       "GarageCond        6\n",
       "PavedDrive        3\n",
       "PoolQC            5\n",
       "Fence             5\n",
       "MiscFeature       6\n",
       "SaleType         10\n",
       "SaleCondition     6\n",
       "dtype: int64"
      ]
     },
     "execution_count": 2,
     "metadata": {},
     "output_type": "execute_result"
    }
   ],
   "source": [
    "df.select_dtypes([\"object\"]).nunique()"
   ]
  },
  {
   "cell_type": "markdown",
   "id": "5fd4b5df",
   "metadata": {
    "papermill": {
     "duration": 0.007202,
     "end_time": "2022-07-05T11:19:31.633644",
     "exception": false,
     "start_time": "2022-07-05T11:19:31.626442",
     "status": "completed"
    },
    "tags": []
   },
   "source": [
    "We talked about how the M-estimate encoding uses smoothing to improve estimates for rare categories. To see how many times a category occurs in the dataset, you can use the `value_counts` method. This cell shows the counts for `SaleType`, but you might want to consider others as well."
   ]
  },
  {
   "cell_type": "code",
   "execution_count": 3,
   "id": "d0bbb4a6",
   "metadata": {
    "execution": {
     "iopub.execute_input": "2022-07-05T11:19:31.652134Z",
     "iopub.status.busy": "2022-07-05T11:19:31.650361Z",
     "iopub.status.idle": "2022-07-05T11:19:31.666307Z",
     "shell.execute_reply": "2022-07-05T11:19:31.664644Z"
    },
    "papermill": {
     "duration": 0.028554,
     "end_time": "2022-07-05T11:19:31.669503",
     "exception": false,
     "start_time": "2022-07-05T11:19:31.640949",
     "status": "completed"
    },
    "tags": []
   },
   "outputs": [
    {
     "data": {
      "text/plain": [
       "WD       2536\n",
       "New       239\n",
       "COD        87\n",
       "ConLD      26\n",
       "CWD        12\n",
       "ConLI       9\n",
       "ConLw       8\n",
       "Oth         7\n",
       "Con         5\n",
       "VWD         1\n",
       "Name: SaleType, dtype: int64"
      ]
     },
     "execution_count": 3,
     "metadata": {},
     "output_type": "execute_result"
    }
   ],
   "source": [
    "df[\"SaleType\"].value_counts()"
   ]
  },
  {
   "cell_type": "markdown",
   "id": "4d6a878b",
   "metadata": {
    "papermill": {
     "duration": 0.007324,
     "end_time": "2022-07-05T11:19:31.684655",
     "exception": false,
     "start_time": "2022-07-05T11:19:31.677331",
     "status": "completed"
    },
    "tags": []
   },
   "source": [
    "# 1) Choose Features for Encoding\n",
    "\n",
    "Which features did you identify for target encoding? After you've thought about your answer, run the next cell for some discussion."
   ]
  },
  {
   "cell_type": "code",
   "execution_count": 4,
   "id": "ccf7404c",
   "metadata": {
    "execution": {
     "iopub.execute_input": "2022-07-05T11:19:31.702145Z",
     "iopub.status.busy": "2022-07-05T11:19:31.701719Z",
     "iopub.status.idle": "2022-07-05T11:19:31.711364Z",
     "shell.execute_reply": "2022-07-05T11:19:31.710482Z"
    },
    "papermill": {
     "duration": 0.021232,
     "end_time": "2022-07-05T11:19:31.713470",
     "exception": false,
     "start_time": "2022-07-05T11:19:31.692238",
     "status": "completed"
    },
    "tags": []
   },
   "outputs": [
    {
     "data": {
      "application/javascript": [
       "parent.postMessage({\"jupyterEvent\": \"custom.exercise_interaction\", \"data\": {\"outcomeType\": 1, \"valueTowardsCompletion\": 0.3333333333333333, \"interactionType\": 1, \"questionType\": 4, \"questionId\": \"1_Q1\", \"learnToolsVersion\": \"0.3.4\", \"failureMessage\": \"\", \"exceptionClass\": \"\", \"trace\": \"\"}}, \"*\")"
      ],
      "text/plain": [
       "<IPython.core.display.Javascript object>"
      ]
     },
     "metadata": {},
     "output_type": "display_data"
    },
    {
     "data": {
      "text/markdown": [
       "<span style=\"color:#33cc33\">Correct:</span> \n",
       "\n",
       " The `Neighborhood` feature looks promising. It has the most categories of any feature, and several categories are rare. Others that could be worth considering are `SaleType`, `MSSubClass`, `Exterior1st`, `Exterior2nd`. In fact, almost any of the nominal features would be worth trying because of the prevalence of rare categories."
      ],
      "text/plain": [
       "Correct: \n",
       "\n",
       " The `Neighborhood` feature looks promising. It has the most categories of any feature, and several categories are rare. Others that could be worth considering are `SaleType`, `MSSubClass`, `Exterior1st`, `Exterior2nd`. In fact, almost any of the nominal features would be worth trying because of the prevalence of rare categories."
      ]
     },
     "metadata": {},
     "output_type": "display_data"
    }
   ],
   "source": [
    "# View the solution (Run this cell to receive credit!)\n",
    "q_1.check()"
   ]
  },
  {
   "cell_type": "markdown",
   "id": "083fc7f3",
   "metadata": {
    "papermill": {
     "duration": 0.007697,
     "end_time": "2022-07-05T11:19:31.729096",
     "exception": false,
     "start_time": "2022-07-05T11:19:31.721399",
     "status": "completed"
    },
    "tags": []
   },
   "source": [
    "-------------------------------------------------------------------------------\n",
    "\n",
    "Now you'll apply a target encoding to your choice of feature. As we discussed in the tutorial, to avoid overfitting, we need to fit the encoder on data heldout from the training set. Run this cell to create the encoding and training splits:"
   ]
  },
  {
   "cell_type": "code",
   "execution_count": 5,
   "id": "be223996",
   "metadata": {
    "execution": {
     "iopub.execute_input": "2022-07-05T11:19:31.747721Z",
     "iopub.status.busy": "2022-07-05T11:19:31.746341Z",
     "iopub.status.idle": "2022-07-05T11:19:31.763122Z",
     "shell.execute_reply": "2022-07-05T11:19:31.762017Z"
    },
    "lines_to_next_cell": 2,
    "papermill": {
     "duration": 0.029005,
     "end_time": "2022-07-05T11:19:31.766067",
     "exception": false,
     "start_time": "2022-07-05T11:19:31.737062",
     "status": "completed"
    },
    "tags": []
   },
   "outputs": [],
   "source": [
    "# Encoding split\n",
    "X_encode = df.sample(frac=0.20, random_state=0)\n",
    "y_encode = X_encode.pop(\"SalePrice\")\n",
    "\n",
    "# Training split\n",
    "X_pretrain = df.drop(X_encode.index)\n",
    "y_train = X_pretrain.pop(\"SalePrice\")"
   ]
  },
  {
   "cell_type": "markdown",
   "id": "b114966c",
   "metadata": {
    "papermill": {
     "duration": 0.007696,
     "end_time": "2022-07-05T11:19:31.781852",
     "exception": false,
     "start_time": "2022-07-05T11:19:31.774156",
     "status": "completed"
    },
    "tags": []
   },
   "source": [
    "# 2) Apply M-Estimate Encoding\n",
    "\n",
    "Apply a target encoding to your choice of categorical features. Also choose a value for the smoothing parameter `m` (any value is okay for a correct answer)."
   ]
  },
  {
   "cell_type": "code",
   "execution_count": 6,
   "id": "55efe4f5",
   "metadata": {
    "execution": {
     "iopub.execute_input": "2022-07-05T11:19:31.800712Z",
     "iopub.status.busy": "2022-07-05T11:19:31.800214Z",
     "iopub.status.idle": "2022-07-05T11:19:31.897593Z",
     "shell.execute_reply": "2022-07-05T11:19:31.896407Z"
    },
    "lines_to_next_cell": 0,
    "papermill": {
     "duration": 0.11026,
     "end_time": "2022-07-05T11:19:31.900213",
     "exception": false,
     "start_time": "2022-07-05T11:19:31.789953",
     "status": "completed"
    },
    "tags": []
   },
   "outputs": [
    {
     "data": {
      "application/javascript": [
       "parent.postMessage({\"jupyterEvent\": \"custom.exercise_interaction\", \"data\": {\"outcomeType\": 1, \"valueTowardsCompletion\": 0.3333333333333333, \"interactionType\": 1, \"questionType\": 2, \"questionId\": \"2_Q2\", \"learnToolsVersion\": \"0.3.4\", \"failureMessage\": \"\", \"exceptionClass\": \"\", \"trace\": \"\"}}, \"*\")"
      ],
      "text/plain": [
       "<IPython.core.display.Javascript object>"
      ]
     },
     "metadata": {},
     "output_type": "display_data"
    },
    {
     "data": {
      "text/markdown": [
       "<span style=\"color:#33cc33\">Correct</span>"
      ],
      "text/plain": [
       "Correct"
      ]
     },
     "metadata": {},
     "output_type": "display_data"
    }
   ],
   "source": [
    "# YOUR CODE HERE: Create the MEstimateEncoder\n",
    "# Choose a set of features to encode and a value for m\n",
    "encoder = MEstimateEncoder(\n",
    "    cols=[\"Neighborhood\"],\n",
    "    m=1.0,\n",
    ")\n",
    "\n",
    "\n",
    "# Fit the encoder on the encoding split\n",
    "encoder.fit(X_encode, y_encode)\n",
    "\n",
    "# Encode the training split\n",
    "X_train = encoder.transform(X_pretrain, y_train)\n",
    "\n",
    "\n",
    "# Check your answer\n",
    "q_2.check()"
   ]
  },
  {
   "cell_type": "code",
   "execution_count": 7,
   "id": "3f1b8f2a",
   "metadata": {
    "execution": {
     "iopub.execute_input": "2022-07-05T11:19:31.920282Z",
     "iopub.status.busy": "2022-07-05T11:19:31.918853Z",
     "iopub.status.idle": "2022-07-05T11:19:31.931444Z",
     "shell.execute_reply": "2022-07-05T11:19:31.930608Z"
    },
    "lines_to_next_cell": 0,
    "papermill": {
     "duration": 0.025119,
     "end_time": "2022-07-05T11:19:31.933634",
     "exception": false,
     "start_time": "2022-07-05T11:19:31.908515",
     "status": "completed"
    },
    "tags": []
   },
   "outputs": [
    {
     "data": {
      "application/javascript": [
       "parent.postMessage({\"jupyterEvent\": \"custom.exercise_interaction\", \"data\": {\"interactionType\": 2, \"questionType\": 2, \"questionId\": \"2_Q2\", \"learnToolsVersion\": \"0.3.4\", \"valueTowardsCompletion\": 0.0, \"failureMessage\": \"\", \"exceptionClass\": \"\", \"trace\": \"\", \"outcomeType\": 4}}, \"*\")"
      ],
      "text/plain": [
       "<IPython.core.display.Javascript object>"
      ]
     },
     "metadata": {},
     "output_type": "display_data"
    },
    {
     "data": {
      "text/markdown": [
       "<span style=\"color:#3366cc\">Hint:</span> Your code should look something like:\n",
       "```python\n",
       "encoder = MEstimateEncoder(\n",
       "    cols=____,\n",
       "    m=____,\n",
       ")\n",
       "\n",
       "\n",
       "# Fit the encoder on the encoding split\n",
       "____.____(X_encode, y_encode)\n",
       "\n",
       "# Encode the training split\n",
       "X_train = encoder.transform(X_pretrain, y_train)\n",
       "```\n"
      ],
      "text/plain": [
       "Hint: Your code should look something like:\n",
       "```python\n",
       "encoder = MEstimateEncoder(\n",
       "    cols=____,\n",
       "    m=____,\n",
       ")\n",
       "\n",
       "\n",
       "# Fit the encoder on the encoding split\n",
       "____.____(X_encode, y_encode)\n",
       "\n",
       "# Encode the training split\n",
       "X_train = encoder.transform(X_pretrain, y_train)\n",
       "```"
      ]
     },
     "metadata": {},
     "output_type": "display_data"
    },
    {
     "data": {
      "application/javascript": [
       "parent.postMessage({\"jupyterEvent\": \"custom.exercise_interaction\", \"data\": {\"interactionType\": 3, \"questionType\": 2, \"questionId\": \"2_Q2\", \"learnToolsVersion\": \"0.3.4\", \"valueTowardsCompletion\": 0.0, \"failureMessage\": \"\", \"exceptionClass\": \"\", \"trace\": \"\", \"outcomeType\": 4}}, \"*\")"
      ],
      "text/plain": [
       "<IPython.core.display.Javascript object>"
      ]
     },
     "metadata": {},
     "output_type": "display_data"
    },
    {
     "data": {
      "text/markdown": [
       "<span style=\"color:#33cc99\">Solution:</span> \n",
       "```python\n",
       "\n",
       "encoder = MEstimateEncoder(\n",
       "    cols=[\"Neighborhood\"],\n",
       "    m=1.0,\n",
       ")\n",
       "\n",
       "\n",
       "# Fit the encoder on the encoding split\n",
       "encoder.fit(X_encode, y_encode)\n",
       "\n",
       "# Encode the training split\n",
       "X_train = encoder.transform(X_pretrain, y_train)\n",
       "\n",
       "```"
      ],
      "text/plain": [
       "Solution: \n",
       "```python\n",
       "\n",
       "encoder = MEstimateEncoder(\n",
       "    cols=[\"Neighborhood\"],\n",
       "    m=1.0,\n",
       ")\n",
       "\n",
       "\n",
       "# Fit the encoder on the encoding split\n",
       "encoder.fit(X_encode, y_encode)\n",
       "\n",
       "# Encode the training split\n",
       "X_train = encoder.transform(X_pretrain, y_train)\n",
       "\n",
       "```"
      ]
     },
     "metadata": {},
     "output_type": "display_data"
    }
   ],
   "source": [
    "# Lines below will give you a hint or solution code\n",
    "q_2.hint()\n",
    "q_2.solution()"
   ]
  },
  {
   "cell_type": "markdown",
   "id": "4192a04b",
   "metadata": {
    "papermill": {
     "duration": 0.008457,
     "end_time": "2022-07-05T11:19:31.951611",
     "exception": false,
     "start_time": "2022-07-05T11:19:31.943154",
     "status": "completed"
    },
    "tags": []
   },
   "source": [
    "If you'd like to see how the encoded feature compares to the target, you can run this cell:"
   ]
  },
  {
   "cell_type": "code",
   "execution_count": 8,
   "id": "b916cce4",
   "metadata": {
    "execution": {
     "iopub.execute_input": "2022-07-05T11:19:31.971849Z",
     "iopub.status.busy": "2022-07-05T11:19:31.970651Z",
     "iopub.status.idle": "2022-07-05T11:19:32.397114Z",
     "shell.execute_reply": "2022-07-05T11:19:32.395816Z"
    },
    "papermill": {
     "duration": 0.439663,
     "end_time": "2022-07-05T11:19:32.399957",
     "exception": false,
     "start_time": "2022-07-05T11:19:31.960294",
     "status": "completed"
    },
    "tags": []
   },
   "outputs": [
    {
     "data": {
      "image/png": "[encoded data removed]",
      "text/plain": [
       "<Figure size 540x360 with 1 Axes>"
      ]
     },
     "metadata": {},
     "output_type": "display_data"
    }
   ],
   "source": [
    "feature = encoder.cols\n",
    "\n",
    "plt.figure(dpi=90)\n",
    "ax = sns.distplot(y_train, kde=True, hist=False)\n",
    "ax = sns.distplot(X_train[feature], color='r', ax=ax, hist=True, kde=False, norm_hist=True)\n",
    "ax.set_xlabel(\"SalePrice\");"
   ]
  },
  {
   "cell_type": "markdown",
   "id": "680b9372",
   "metadata": {
    "papermill": {
     "duration": 0.008903,
     "end_time": "2022-07-05T11:19:32.418340",
     "exception": false,
     "start_time": "2022-07-05T11:19:32.409437",
     "status": "completed"
    },
    "tags": []
   },
   "source": [
    "From the distribution plots, does it seem like the encoding is informative?\n",
    "\n",
    "And this cell will show you the score of the encoded set compared to the original set:"
   ]
  },
  {
   "cell_type": "code",
   "execution_count": 9,
   "id": "1514059a",
   "metadata": {
    "execution": {
     "iopub.execute_input": "2022-07-05T11:19:32.440590Z",
     "iopub.status.busy": "2022-07-05T11:19:32.439601Z",
     "iopub.status.idle": "2022-07-05T11:19:41.092762Z",
     "shell.execute_reply": "2022-07-05T11:19:41.091370Z"
    },
    "papermill": {
     "duration": 8.667817,
     "end_time": "2022-07-05T11:19:41.096112",
     "exception": false,
     "start_time": "2022-07-05T11:19:32.428295",
     "status": "completed"
    },
    "tags": []
   },
   "outputs": [
    {
     "name": "stdout",
     "output_type": "stream",
     "text": [
      "Baseline Score: 0.1428 RMSLE\n",
      "Score with Encoding: 0.1402 RMSLE\n"
     ]
    }
   ],
   "source": [
    "X = df.copy()\n",
    "y = X.pop(\"SalePrice\")\n",
    "score_base = score_dataset(X, y)\n",
    "score_new = score_dataset(X_train, y_train)\n",
    "\n",
    "print(f\"Baseline Score: {score_base:.4f} RMSLE\")\n",
    "print(f\"Score with Encoding: {score_new:.4f} RMSLE\")"
   ]
  },
  {
   "cell_type": "markdown",
   "id": "86c5674f",
   "metadata": {
    "papermill": {
     "duration": 0.009384,
     "end_time": "2022-07-05T11:19:41.116204",
     "exception": false,
     "start_time": "2022-07-05T11:19:41.106820",
     "status": "completed"
    },
    "tags": []
   },
   "source": [
    "Do you think that target encoding was worthwhile in this case? Depending on which feature or features you chose, you may have ended up with a score significantly worse than the baseline. In that case, it's likely the extra information gained by the encoding couldn't make up for the loss of data used for the encoding."
   ]
  },
  {
   "cell_type": "markdown",
   "id": "e7ebd298",
   "metadata": {
    "papermill": {
     "duration": 0.009345,
     "end_time": "2022-07-05T11:19:41.136331",
     "exception": false,
     "start_time": "2022-07-05T11:19:41.126986",
     "status": "completed"
    },
    "tags": []
   },
   "source": [
    "-------------------------------------------------------------------------------\n",
    "\n",
    "In this question, you'll explore the problem of overfitting with target encodings. This will illustrate this importance of training fitting target encoders on data held-out from the training set.\n",
    "\n",
    "So let's see what happens when we fit the encoder and the model on the *same* dataset. To emphasize how dramatic the overfitting can be, we'll mean-encode a feature that should have no relationship with `SalePrice`, a count: `0, 1, 2, 3, 4, 5, ...`."
   ]
  },
  {
   "cell_type": "code",
   "execution_count": 10,
   "id": "90a02acf",
   "metadata": {
    "execution": {
     "iopub.execute_input": "2022-07-05T11:19:41.158510Z",
     "iopub.status.busy": "2022-07-05T11:19:41.157549Z",
     "iopub.status.idle": "2022-07-05T11:19:45.752922Z",
     "shell.execute_reply": "2022-07-05T11:19:45.751451Z"
    },
    "papermill": {
     "duration": 4.611001,
     "end_time": "2022-07-05T11:19:45.757028",
     "exception": false,
     "start_time": "2022-07-05T11:19:41.146027",
     "status": "completed"
    },
    "tags": []
   },
   "outputs": [
    {
     "name": "stdout",
     "output_type": "stream",
     "text": [
      "Score: 0.0298 RMSLE\n"
     ]
    }
   ],
   "source": [
    "# Try experimenting with the smoothing parameter m\n",
    "# Try 0, 1, 5, 50\n",
    "m = 1\n",
    "\n",
    "X = df.copy()\n",
    "y = X.pop('SalePrice')\n",
    "\n",
    "# Create an uninformative feature\n",
    "X[\"Count\"] = range(len(X))\n",
    "X[\"Count\"][1] = 0  # actually need one duplicate value to circumvent error-checking in MEstimateEncoder\n",
    "\n",
    "# fit and transform on the same dataset\n",
    "encoder = MEstimateEncoder(cols=\"Count\", m=m)\n",
    "X = encoder.fit_transform(X, y)\n",
    "\n",
    "# Results\n",
    "score =  score_dataset(X, y)\n",
    "print(f\"Score: {score:.4f} RMSLE\")"
   ]
  },
  {
   "cell_type": "markdown",
   "id": "2e053512",
   "metadata": {
    "papermill": {
     "duration": 0.009493,
     "end_time": "2022-07-05T11:19:45.777795",
     "exception": false,
     "start_time": "2022-07-05T11:19:45.768302",
     "status": "completed"
    },
    "tags": []
   },
   "source": [
    "Almost a perfect score!"
   ]
  },
  {
   "cell_type": "code",
   "execution_count": 11,
   "id": "472f5157",
   "metadata": {
    "execution": {
     "iopub.execute_input": "2022-07-05T11:19:45.799334Z",
     "iopub.status.busy": "2022-07-05T11:19:45.798908Z",
     "iopub.status.idle": "2022-07-05T11:19:46.196046Z",
     "shell.execute_reply": "2022-07-05T11:19:46.194468Z"
    },
    "papermill": {
     "duration": 0.412345,
     "end_time": "2022-07-05T11:19:46.199868",
     "exception": false,
     "start_time": "2022-07-05T11:19:45.787523",
     "status": "completed"
    },
    "tags": []
   },
   "outputs": [
    {
     "data": {
      "image/png": "[encoded data removed]",
      "text/plain": [
       "<Figure size 540x360 with 1 Axes>"
      ]
     },
     "metadata": {},
     "output_type": "display_data"
    }
   ],
   "source": [
    "plt.figure(dpi=90)\n",
    "ax = sns.distplot(y, kde=True, hist=False)\n",
    "ax = sns.distplot(X[\"Count\"], color='r', ax=ax, hist=True, kde=False, norm_hist=True)\n",
    "ax.set_xlabel(\"SalePrice\");"
   ]
  },
  {
   "cell_type": "markdown",
   "id": "6cf16830",
   "metadata": {
    "papermill": {
     "duration": 0.010939,
     "end_time": "2022-07-05T11:19:46.222601",
     "exception": false,
     "start_time": "2022-07-05T11:19:46.211662",
     "status": "completed"
    },
    "tags": []
   },
   "source": [
    "And the distributions are almost exactly the same, too.\n",
    "\n",
    "# 3) Overfitting with Target Encoders\n",
    "\n",
    "Based on your understanding of how mean-encoding works, can you explain how XGBoost was able to get an almost a perfect fit after mean-encoding the count feature?"
   ]
  },
  {
   "cell_type": "code",
   "execution_count": 12,
   "id": "ec3e5466",
   "metadata": {
    "execution": {
     "iopub.execute_input": "2022-07-05T11:19:46.245564Z",
     "iopub.status.busy": "2022-07-05T11:19:46.244669Z",
     "iopub.status.idle": "2022-07-05T11:19:46.254726Z",
     "shell.execute_reply": "2022-07-05T11:19:46.253752Z"
    },
    "lines_to_next_cell": 0,
    "papermill": {
     "duration": 0.024422,
     "end_time": "2022-07-05T11:19:46.257110",
     "exception": false,
     "start_time": "2022-07-05T11:19:46.232688",
     "status": "completed"
    },
    "tags": []
   },
   "outputs": [
    {
     "data": {
      "application/javascript": [
       "parent.postMessage({\"jupyterEvent\": \"custom.exercise_interaction\", \"data\": {\"outcomeType\": 1, \"valueTowardsCompletion\": 0.3333333333333333, \"interactionType\": 1, \"questionType\": 4, \"questionId\": \"3_Q3\", \"learnToolsVersion\": \"0.3.4\", \"failureMessage\": \"\", \"exceptionClass\": \"\", \"trace\": \"\"}}, \"*\")"
      ],
      "text/plain": [
       "<IPython.core.display.Javascript object>"
      ]
     },
     "metadata": {},
     "output_type": "display_data"
    },
    {
     "data": {
      "text/markdown": [
       "<span style=\"color:#33cc33\">Correct:</span> \n",
       "\n",
       "\n",
       "Since `Count` never has any duplicate values, the mean-encoded `Count` is essentially an exact copy of the target. In other words, mean-encoding turned a completely meaningless feature into a perfect feature.\n",
       "\n",
       "Now, the only reason this worked is because we trained XGBoost on the same set we used to train the encoder. If we had used a hold-out set instead, none of this \"fake\" encoding would have transferred to the training data.\n",
       "\n",
       "The lesson is that when using a target encoder it's very important to use separate data sets for training the encoder and training the model. Otherwise the results can be very disappointing!\n"
      ],
      "text/plain": [
       "Correct: \n",
       "\n",
       "\n",
       "Since `Count` never has any duplicate values, the mean-encoded `Count` is essentially an exact copy of the target. In other words, mean-encoding turned a completely meaningless feature into a perfect feature.\n",
       "\n",
       "Now, the only reason this worked is because we trained XGBoost on the same set we used to train the encoder. If we had used a hold-out set instead, none of this \"fake\" encoding would have transferred to the training data.\n",
       "\n",
       "The lesson is that when using a target encoder it's very important to use separate data sets for training the encoder and training the model. Otherwise the results can be very disappointing!"
      ]
     },
     "metadata": {},
     "output_type": "display_data"
    }
   ],
   "source": [
    "# View the solution (Run this cell to receive credit!)\n",
    "q_3.check()"
   ]
  },
  {
   "cell_type": "code",
   "execution_count": 13,
   "id": "23dff391",
   "metadata": {
    "execution": {
     "iopub.execute_input": "2022-07-05T11:19:46.280561Z",
     "iopub.status.busy": "2022-07-05T11:19:46.279672Z",
     "iopub.status.idle": "2022-07-05T11:19:46.290766Z",
     "shell.execute_reply": "2022-07-05T11:19:46.289579Z"
    },
    "papermill": {
     "duration": 0.025732,
     "end_time": "2022-07-05T11:19:46.293241",
     "exception": false,
     "start_time": "2022-07-05T11:19:46.267509",
     "status": "completed"
    },
    "tags": []
   },
   "outputs": [
    {
     "data": {
      "application/javascript": [
       "parent.postMessage({\"jupyterEvent\": \"custom.exercise_interaction\", \"data\": {\"interactionType\": 2, \"questionType\": 4, \"questionId\": \"3_Q3\", \"learnToolsVersion\": \"0.3.4\", \"valueTowardsCompletion\": 0.0, \"failureMessage\": \"\", \"exceptionClass\": \"\", \"trace\": \"\", \"outcomeType\": 4}}, \"*\")"
      ],
      "text/plain": [
       "<IPython.core.display.Javascript object>"
      ]
     },
     "metadata": {},
     "output_type": "display_data"
    },
    {
     "data": {
      "text/markdown": [
       "<span style=\"color:#3366cc\">Hint:</span> \n",
       "Suppose you had a dataset like:\n",
       "\n",
       "| Count | Target |\n",
       "|-------|--------|\n",
       "| 0     | 10     |\n",
       "| 1     | 5      |\n",
       "| 2     | 30     |\n",
       "| 3     | 22     |\n",
       "\n",
       "What is the mean value of Target when Count is equal to 0? It's 10, since 0 only occurs in the first row. So what would be the result of mean-encoding Count, knowing that Count never has any duplicate values?\n"
      ],
      "text/plain": [
       "Hint: \n",
       "Suppose you had a dataset like:\n",
       "\n",
       "| Count | Target |\n",
       "|-------|--------|\n",
       "| 0     | 10     |\n",
       "| 1     | 5      |\n",
       "| 2     | 30     |\n",
       "| 3     | 22     |\n",
       "\n",
       "What is the mean value of Target when Count is equal to 0? It's 10, since 0 only occurs in the first row. So what would be the result of mean-encoding Count, knowing that Count never has any duplicate values?"
      ]
     },
     "metadata": {},
     "output_type": "display_data"
    }
   ],
   "source": [
    "# Uncomment this if you'd like a hint before seeing the answer\n",
    "q_3.hint()"
   ]
  },
  {
   "cell_type": "markdown",
   "id": "80d5bace",
   "metadata": {
    "papermill": {
     "duration": 0.010015,
     "end_time": "2022-07-05T11:19:46.313930",
     "exception": false,
     "start_time": "2022-07-05T11:19:46.303915",
     "status": "completed"
    },
    "tags": []
   },
   "source": [
    "# The End #\n",
    "\n",
    "That's it for *Feature Engineering*! We hope you enjoyed your time with us.\n",
    "\n",
    "Now, are you ready to try out your new skills? Now would be a great time to join our [Housing Prices](https://www.kaggle.com/c/house-prices-advanced-regression-techniques) Getting Started competition. We've even prepared a [Bonus Lesson](https://www.kaggle.com/ryanholbrook/feature-engineering-for-house-prices) that collects all the work we've done together into a starter notebook.\n",
    "\n",
    "# References #\n",
    "Here are some great resources you might like to consult for more information. They all played a part in shaping this course:\n",
    "- *The Art of Feature Engineering*, a book by Pablo Duboue.\n",
    "- *An Empirical Analysis of Feature Engineering for Predictive Modeling*, an article by Jeff Heaton.\n",
    "- *Feature Engineering for Machine Learning*, a book by Alice Zheng and Amanda Casari. The tutorial on clustering was inspired by this excellent book.\n",
    "- *Feature Engineering and Selection*, a book by Max Kuhn and Kjell Johnson."
   ]
  },
  {
   "cell_type": "markdown",
   "id": "71a30db9",
   "metadata": {
    "papermill": {
     "duration": 0.010245,
     "end_time": "2022-07-05T11:19:46.334651",
     "exception": false,
     "start_time": "2022-07-05T11:19:46.324406",
     "status": "completed"
    },
    "tags": []
   },
   "source": [
    "---\n",
    "\n",
    "\n",
    "\n",
    "\n",
    "*Have questions or comments? Visit the [course discussion forum](https://www.kaggle.com/learn/feature-engineering/discussion) to chat with other learners.*"
   ]
  }
 ],
 "metadata": {
  "kernelspec": {
   "display_name": "Python 3",
   "language": "python",
   "name": "python3"
  },
  "language_info": {
   "codemirror_mode": {
    "name": "ipython",
    "version": 3
   },
   "file_extension": ".py",
   "mimetype": "text/x-python",
   "name": "python",
   "nbconvert_exporter": "python",
   "pygments_lexer": "ipython3",
   "version": "3.7.12"
  },
  "papermill": {
   "default_parameters": {},
   "duration": 29.68239,
   "end_time": "2022-07-05T11:19:47.168126",
   "environment_variables": {},
   "exception": null,
   "input_path": "__notebook__.ipynb",
   "output_path": "__notebook__.ipynb",
   "parameters": {},
   "start_time": "2022-07-05T11:19:17.485736",
   "version": "2.3.4"
  }
 },
 "nbformat": 4,
 "nbformat_minor": 5
}
